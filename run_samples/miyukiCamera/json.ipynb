{
 "cells": [
  {
   "cell_type": "code",
   "execution_count": 1,
   "metadata": {},
   "outputs": [],
   "source": [
    "import pandas as pd\n",
    "import numpy as np\n",
    "import os\n",
    "import matplotlib.pyplot as plt \n",
    "\n",
    "%matplotlib inline"
   ]
  },
  {
   "cell_type": "code",
   "execution_count": 2,
   "metadata": {},
   "outputs": [
    {
     "name": "stdout",
     "output_type": "stream",
     "text": [
      "\u001b[34m__pycache__\u001b[m\u001b[m                      json.ipynb\r\n",
      "demo.ipynb                       miyukiCamera.py\r\n",
      "inspect_miyukiCamera_data.ipynb  miyukiCamera_Inspect.py\r\n",
      "inspect_miyukiCamera_model.ipynb train_shapes.ipynb\r\n"
     ]
    }
   ],
   "source": [
    "!ls"
   ]
  },
  {
   "cell_type": "code",
   "execution_count": 3,
   "metadata": {},
   "outputs": [],
   "source": [
    "train_dir =\"/Users/donchan/Documents/Miyuki/MaskRCNN_data/datasets/miyukiCamera/train/\"\n",
    "vja_file = os.path.join(train_dir,\"via_region_data.json\")\n",
    "new_vja_file = os.path.join(train_dir,\"via_region_data_train.json\")"
   ]
  },
  {
   "cell_type": "code",
   "execution_count": 4,
   "metadata": {},
   "outputs": [],
   "source": [
    "df = pd.read_json(vja_file)\n",
    "#df = df.drop( df.columns[18],axis=1 )\n",
    "#df.to_json(new_vja_file)"
   ]
  },
  {
   "cell_type": "code",
   "execution_count": 8,
   "metadata": {
    "scrolled": true
   },
   "outputs": [
    {
     "name": "stdout",
     "output_type": "stream",
     "text": [
      "0\n",
      "polygon\n",
      "rect\n",
      "1\n",
      "polygon\n",
      "polygon\n",
      "rect\n",
      "2\n",
      "polygon\n",
      "3\n",
      "polygon\n",
      "polygon\n",
      "polygon\n",
      "polygon\n",
      "4\n",
      "polygon\n",
      "polygon\n",
      "polygon\n",
      "5\n",
      "polygon\n",
      "6\n",
      "polygon\n",
      "7\n",
      "polygon\n",
      "polygon\n",
      "polygon\n",
      "8\n",
      "polygon\n",
      "9\n",
      "polygon\n",
      "10\n",
      "polygon\n",
      "11\n",
      "polygon\n",
      "12\n",
      "polygon\n",
      "13\n",
      "polygon\n",
      "polygon\n",
      "polygon\n",
      "14\n",
      "polygon\n",
      "polygon\n",
      "15\n",
      "polygon\n",
      "polygon\n",
      "16\n",
      "polygon\n",
      "polygon\n",
      "17\n",
      "polygon\n",
      "polygon\n",
      "18\n",
      "polygon\n",
      "polygon\n",
      "polygon\n",
      "19\n",
      "polygon\n",
      "20\n",
      "polygon\n",
      "polygon\n",
      "21\n",
      "polygon\n",
      "polygon\n",
      "22\n",
      "polygon\n",
      "polygon\n",
      "polygon\n",
      "23\n",
      "polygon\n",
      "polygon\n"
     ]
    }
   ],
   "source": [
    "regions = df.transpose().reset_index()[\"regions\"]\n",
    "for idx, r in enumerate( regions ):\n",
    "    print(idx)\n",
    "    for attribute in r:\n",
    "        print( r[attribute][\"shape_attributes\"][\"name\"] )"
   ]
  },
  {
   "cell_type": "code",
   "execution_count": 14,
   "metadata": {},
   "outputs": [],
   "source": [
    "df = df.drop( [ df.columns[0], df.columns[1]] , axis=1 )\n",
    "\n"
   ]
  },
  {
   "cell_type": "code",
   "execution_count": null,
   "metadata": {},
   "outputs": [],
   "source": []
  },
  {
   "cell_type": "code",
   "execution_count": null,
   "metadata": {},
   "outputs": [],
   "source": []
  },
  {
   "cell_type": "code",
   "execution_count": null,
   "metadata": {},
   "outputs": [],
   "source": []
  },
  {
   "cell_type": "code",
   "execution_count": null,
   "metadata": {},
   "outputs": [],
   "source": []
  },
  {
   "cell_type": "markdown",
   "metadata": {},
   "source": [
    "## change wrong classification "
   ]
  },
  {
   "cell_type": "code",
   "execution_count": 32,
   "metadata": {},
   "outputs": [],
   "source": [
    "df_7 = df[df.columns[7]]\n",
    "df_7[\"regions\"][\"2\"][\"region_attributes\"][\"classification\"] = \"prescription\"\n"
   ]
  },
  {
   "cell_type": "code",
   "execution_count": 35,
   "metadata": {},
   "outputs": [],
   "source": [
    "df_7[\"regions\"][\"2\"][\"region_attributes\"][\"classification\"]\n",
    "\n",
    "df[df.columns[7]] = df_7"
   ]
  },
  {
   "cell_type": "code",
   "execution_count": 38,
   "metadata": {
    "collapsed": true
   },
   "outputs": [
    {
     "name": "stdout",
     "output_type": "stream",
     "text": [
      "0\n",
      "{'classification': 'hands'}\n",
      "{'classification': 'drug'}\n",
      "1\n",
      "{'classification': 'prescription'}\n",
      "{'classification': 'hands'}\n",
      "{'classification': 'cointab'}\n",
      "2\n",
      "{'classification': 'prescription'}\n",
      "3\n",
      "{'classification': 'sheets'}\n",
      "{'classification': 'drug'}\n",
      "{'classification': 'hands'}\n",
      "{'classification': 'hands'}\n",
      "4\n",
      "{'classification': 'prescription'}\n",
      "{'classification': 'drug'}\n",
      "{'classification': 'drug'}\n",
      "5\n",
      "{'classification': 'prescription'}\n",
      "6\n",
      "{'classification': 'prescription'}\n",
      "7\n",
      "{'classification': 'hands'}\n",
      "{'classification': 'hands'}\n",
      "{'classification': 'prescription'}\n",
      "8\n",
      "{'classification': 'sheets'}\n",
      "9\n",
      "{'classification': 'prescription'}\n",
      "10\n",
      "{'classification': 'prescription'}\n",
      "11\n",
      "{'classification': 'prescription'}\n",
      "12\n",
      "{'classification': 'sheets'}\n",
      "13\n",
      "{'classification': 'drug'}\n",
      "{'classification': 'drug'}\n",
      "{'classification': 'hands'}\n",
      "14\n",
      "{'classification': 'drug'}\n",
      "{'classification': 'drug'}\n",
      "15\n",
      "{'classification': 'hands'}\n",
      "{'classification': 'prescription'}\n",
      "16\n",
      "{'classification': 'sheets'}\n",
      "{'classification': 'drug'}\n",
      "17\n",
      "{'classification': 'prescription'}\n",
      "{'classification': 'hands'}\n",
      "18\n",
      "{'classification': 'drug'}\n",
      "{'classification': 'hair'}\n",
      "{'classification': 'hands'}\n",
      "19\n",
      "{'classification': 'prescription'}\n",
      "20\n",
      "{'classification': 'money'}\n",
      "{'classification': 'money'}\n",
      "21\n",
      "{'classification': 'prescription'}\n",
      "{'classification': 'hands'}\n",
      "22\n",
      "{'classification': 'prescription'}\n",
      "{'classification': 'sheets'}\n",
      "{'classification': 'hands'}\n",
      "23\n",
      "{'classification': 'prescription'}\n",
      "{'classification': 'drug'}\n"
     ]
    }
   ],
   "source": [
    "\n",
    "\n",
    "regions = df.transpose().reset_index()[\"regions\"]\n",
    "for idx, r in enumerate( regions ):\n",
    "    print(idx)\n",
    "    for attribute in r:\n",
    "        print( r[attribute][\"region_attributes\"] )\n"
   ]
  },
  {
   "cell_type": "code",
   "execution_count": 39,
   "metadata": {},
   "outputs": [],
   "source": [
    "df.to_json(new_vja_file)"
   ]
  },
  {
   "cell_type": "code",
   "execution_count": null,
   "metadata": {},
   "outputs": [],
   "source": []
  }
 ],
 "metadata": {
  "kernelspec": {
   "display_name": "Python 3",
   "language": "python",
   "name": "python3"
  },
  "language_info": {
   "codemirror_mode": {
    "name": "ipython",
    "version": 3
   },
   "file_extension": ".py",
   "mimetype": "text/x-python",
   "name": "python",
   "nbconvert_exporter": "python",
   "pygments_lexer": "ipython3",
   "version": "3.6.5"
  }
 },
 "nbformat": 4,
 "nbformat_minor": 2
}
